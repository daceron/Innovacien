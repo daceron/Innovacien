{
  "nbformat": 4,
  "nbformat_minor": 0,
  "metadata": {
    "colab": {
      "provenance": [],
      "authorship_tag": "ABX9TyMg0vRUNd/2PFKZPp021lAr",
      "include_colab_link": true
    },
    "kernelspec": {
      "name": "python3",
      "display_name": "Python 3"
    },
    "language_info": {
      "name": "python"
    }
  },
  "cells": [
    {
      "cell_type": "markdown",
      "metadata": {
        "id": "view-in-github",
        "colab_type": "text"
      },
      "source": [
        "<a href=\"https://colab.research.google.com/github/daceron/Innovacien/blob/main/Uso_de_markdown.ipynb\" target=\"_parent\"><img src=\"https://colab.research.google.com/assets/colab-badge.svg\" alt=\"Open In Colab\"/></a>"
      ]
    },
    {
      "cell_type": "code",
      "execution_count": null,
      "metadata": {
        "colab": {
          "base_uri": "https://localhost:8080/"
        },
        "id": "JlHL-3FxqQN6",
        "outputId": "68c9006f-3ef4-4ce8-9dd7-5381f996ecaf"
      },
      "outputs": [
        {
          "output_type": "execute_result",
          "data": {
            "text/plain": [
              "2"
            ]
          },
          "metadata": {},
          "execution_count": 2
        }
      ],
      "source": [
        "1+1"
      ]
    },
    {
      "cell_type": "markdown",
      "source": [
        "1+1"
      ],
      "metadata": {
        "id": "c8b2DJwsrCmE"
      }
    },
    {
      "cell_type": "markdown",
      "source": [
        "# Nueva sección\n",
        "Crear texto"
      ],
      "metadata": {
        "id": "_BcWRGddtUpj"
      }
    }
  ]
}