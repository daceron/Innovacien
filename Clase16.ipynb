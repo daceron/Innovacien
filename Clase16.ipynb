{
  "nbformat": 4,
  "nbformat_minor": 0,
  "metadata": {
    "colab": {
      "provenance": [],
      "authorship_tag": "ABX9TyOA4U0/V7s497gM026uAV07",
      "include_colab_link": true
    },
    "kernelspec": {
      "name": "python3",
      "display_name": "Python 3"
    },
    "language_info": {
      "name": "python"
    }
  },
  "cells": [
    {
      "cell_type": "markdown",
      "metadata": {
        "id": "view-in-github",
        "colab_type": "text"
      },
      "source": [
        "<a href=\"https://colab.research.google.com/github/daceron/Innovacien/blob/main/Clase16.ipynb\" target=\"_parent\"><img src=\"https://colab.research.google.com/assets/colab-badge.svg\" alt=\"Open In Colab\"/></a>"
      ]
    },
    {
      "cell_type": "code",
      "execution_count": null,
      "metadata": {
        "id": "vjQjNPxUScRa",
        "colab": {
          "base_uri": "https://localhost:8080/"
        },
        "outputId": "e41e125f-d373-4b15-f192-8970eb7311bc"
      },
      "outputs": [
        {
          "output_type": "stream",
          "name": "stdout",
          "text": [
            "interación: 1 , valor inicial de s: 0\n",
            "valor final de s: 1 \n",
            "\n",
            "interación: 2 , valor inicial de s: 1\n",
            "valor final de s: 3 \n",
            "\n",
            "interación: 3 , valor inicial de s: 3\n",
            "valor final de s: 6 \n",
            "\n",
            "interación: 4 , valor inicial de s: 6\n",
            "valor final de s: 10 \n",
            "\n",
            "interación: 5 , valor inicial de s: 10\n",
            "valor final de s: 15 \n",
            "\n",
            "interación: 6 , valor inicial de s: 15\n",
            "valor final de s: 21 \n",
            "\n",
            "interación: 7 , valor inicial de s: 21\n",
            "valor final de s: 28 \n",
            "\n",
            "interación: 8 , valor inicial de s: 28\n",
            "valor final de s: 36 \n",
            "\n",
            "interación: 9 , valor inicial de s: 36\n",
            "valor final de s: 45 \n",
            "\n",
            "interación: 10 , valor inicial de s: 45\n",
            "valor final de s: 55 \n",
            "\n",
            "Suma de números del 1 al 10:  55\n"
          ]
        }
      ],
      "source": [
        "s = 0\n",
        "for i in range (1, 11):\n",
        "  print('interación:', i ,', valor inicial de s:',s)\n",
        "  s += i\n",
        "  print('valor final de s:',s,'\\n')\n",
        "print('Suma de números del 1 al 10: ', s)"
      ]
    },
    {
      "cell_type": "code",
      "source": [
        "for i in range(1,11,2): print(i)"
      ],
      "metadata": {
        "colab": {
          "base_uri": "https://localhost:8080/"
        },
        "id": "8Uk1A55AUnHO",
        "outputId": "f60edd66-510f-491f-879a-7cd93f756eaf"
      },
      "execution_count": null,
      "outputs": [
        {
          "output_type": "stream",
          "name": "stdout",
          "text": [
            "1\n",
            "3\n",
            "5\n",
            "7\n",
            "9\n"
          ]
        }
      ]
    },
    {
      "cell_type": "code",
      "source": [
        "n=int(input('Ingrese un número:'))\n",
        "fact=1\n",
        "for i in range(1,n+1):\n",
        "  print('Interación ',i,', valor inicial de fact:',fact)\n",
        "  fact=fact*i\n",
        "  print('valor final de fact:', fact)\n",
        "\n",
        "print(str(n)+'!=',fact)"
      ],
      "metadata": {
        "colab": {
          "base_uri": "https://localhost:8080/"
        },
        "id": "9eovq0p9Wp6k",
        "outputId": "0f99f0bd-f38c-405b-e9f1-01a0b6b1f252"
      },
      "execution_count": null,
      "outputs": [
        {
          "output_type": "stream",
          "name": "stdout",
          "text": [
            "Ingrese un número:3\n",
            "Ínteración  1 , valor inicial de fact: 1\n",
            "valor final de fact: 1\n",
            "Ínteración  2 , valor inicial de fact: 1\n",
            "valor final de fact: 2\n",
            "Ínteración  3 , valor inicial de fact: 2\n",
            "valor final de fact: 6\n",
            "3!= 6\n"
          ]
        }
      ]
    },
    {
      "cell_type": "code",
      "source": [
        "for letra in \"Python\": print(letra,end=\"-\")"
      ],
      "metadata": {
        "colab": {
          "base_uri": "https://localhost:8080/"
        },
        "id": "say0mkv2WVLj",
        "outputId": "63b57b35-91eb-4e4e-e1f9-56b2b5c9c195"
      },
      "execution_count": null,
      "outputs": [
        {
          "output_type": "stream",
          "name": "stdout",
          "text": [
            "P-y-t-h-o-n-"
          ]
        }
      ]
    }
  ]
}