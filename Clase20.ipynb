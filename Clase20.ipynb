{
  "nbformat": 4,
  "nbformat_minor": 0,
  "metadata": {
    "colab": {
      "provenance": [],
      "authorship_tag": "ABX9TyOrXHbKVPLfye1Ko2YTFin4",
      "include_colab_link": true
    },
    "kernelspec": {
      "name": "python3",
      "display_name": "Python 3"
    },
    "language_info": {
      "name": "python"
    }
  },
  "cells": [
    {
      "cell_type": "markdown",
      "metadata": {
        "id": "view-in-github",
        "colab_type": "text"
      },
      "source": [
        "<a href=\"https://colab.research.google.com/github/daceron/Innovacien/blob/main/Clase20.ipynb\" target=\"_parent\"><img src=\"https://colab.research.google.com/assets/colab-badge.svg\" alt=\"Open In Colab\"/></a>"
      ]
    },
    {
      "cell_type": "code",
      "source": [
        "import json\n",
        "\n",
        "data='{\"Name\":\"David Doe\",\"Age\":25,\"Hobby\":[\"basketball\"],\\\n",
        " \"Family\":{\"father\":\"John Doe\",\"mother\":\"Marry Doe\"},\"Married\":true}'\n",
        "\n",
        "json_data=json.loads(data)\n",
        "\n",
        "print(type (json_data))\n",
        "print(json_data[ 'Name' ])\n",
        "print(json_data[ 'Family' ])\n",
        "print(json_data[ 'Married' ])"
      ],
      "metadata": {
        "colab": {
          "base_uri": "https://localhost:8080/"
        },
        "id": "V5Hu3-ZfhwMT",
        "outputId": "db9c2991-b526-4a85-d7a0-b8a77bc3a185"
      },
      "execution_count": 2,
      "outputs": [
        {
          "output_type": "stream",
          "name": "stdout",
          "text": [
            "<class 'dict'>\n",
            "David Doe\n",
            "{'father': 'John Doe', 'mother': 'Marry Doe'}\n",
            "True\n"
          ]
        }
      ]
    },
    {
      "cell_type": "code",
      "source": [
        "data = '{\"title\": \"The Old man and The Sea\", \"ISBN\": \"12345\", \"Author\" : \"Ernest Hemingway\"}'\n",
        "json_data = json.loads(data)\n",
        "\n",
        "print (type (json_data))\n",
        "print (json_data[ 'title' ])\n",
        "print (json_data[ 'ISBN' ])\n",
        "print (json_data[ 'Author' ])"
      ],
      "metadata": {
        "colab": {
          "base_uri": "https://localhost:8080/"
        },
        "id": "viId0mCzo7ZN",
        "outputId": "111b7863-5059-4cee-9eed-1f53c70912b6"
      },
      "execution_count": 3,
      "outputs": [
        {
          "output_type": "stream",
          "name": "stdout",
          "text": [
            "<class 'dict'>\n",
            "The Old man and The Sea\n",
            "12345\n",
            "Ernest Hemingway\n"
          ]
        }
      ]
    },
    {
      "cell_type": "code",
      "source": [
        "with open ('book.json' , 'w' ) as f:\n",
        "  json.dump( json_data, f, indent='\\t' )"
      ],
      "metadata": {
        "id": "hQEYN6xxsTl9"
      },
      "execution_count": 4,
      "outputs": []
    }
  ]
}