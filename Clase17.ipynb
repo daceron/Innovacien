{
  "nbformat": 4,
  "nbformat_minor": 0,
  "metadata": {
    "colab": {
      "provenance": [],
      "authorship_tag": "ABX9TyP8QT/yzafUK4pZSGJEAe/3",
      "include_colab_link": true
    },
    "kernelspec": {
      "name": "python3",
      "display_name": "Python 3"
    },
    "language_info": {
      "name": "python"
    }
  },
  "cells": [
    {
      "cell_type": "markdown",
      "metadata": {
        "id": "view-in-github",
        "colab_type": "text"
      },
      "source": [
        "<a href=\"https://colab.research.google.com/github/daceron/Innovacien/blob/main/Clase17.ipynb\" target=\"_parent\"><img src=\"https://colab.research.google.com/assets/colab-badge.svg\" alt=\"Open In Colab\"/></a>"
      ]
    },
    {
      "cell_type": "code",
      "execution_count": 1,
      "metadata": {
        "id": "UbBv0eWNiuRX",
        "colab": {
          "base_uri": "https://localhost:8080/"
        },
        "outputId": "ad29ad90-2481-4457-def7-1f4733543219"
      },
      "outputs": [
        {
          "output_type": "stream",
          "name": "stdout",
          "text": [
            "Interación  1 , valor inicial de s: 0\n",
            "valor final de s: 1\n",
            "Interación  2 , valor inicial de s: 1\n",
            "valor final de s: 3\n",
            "Interación  3 , valor inicial de s: 3\n",
            "valor final de s: 6\n",
            "Interación  4 , valor inicial de s: 6\n",
            "valor final de s: 10\n",
            "Interación  5 , valor inicial de s: 10\n",
            "valor final de s: 15\n",
            "Interación  6 , valor inicial de s: 15\n",
            "valor final de s: 21\n",
            "Interación  7 , valor inicial de s: 21\n",
            "valor final de s: 28\n",
            "Interación  8 , valor inicial de s: 28\n",
            "valor final de s: 36\n",
            "Interación  9 , valor inicial de s: 36\n",
            "valor final de s: 45\n",
            "Interación  10 , valor inicial de s: 45\n",
            "valor final de s: 55\n",
            "Sum of 1 to 10:  55\n"
          ]
        }
      ],
      "source": [
        "s=0\n",
        "for i in range (1 , 11):\n",
        "  print('Interación ',i,', valor inicial de s:',s)\n",
        "  s += i\n",
        "  print('valor final de s:', s)\n",
        "\n",
        "print ( 'Sum of 1 to 10: ' , s)"
      ]
    },
    {
      "cell_type": "code",
      "source": [
        "n = int (input ( 'Enter a number to sum up to ' ))\n",
        "s = 0\n",
        "i = 1\n",
        "while i <= n:\n",
        "  print('Interación {}, valor inicial de s: {}'.format(i,s))\n",
        "  s = s + i\n",
        "  i += 1\n",
        "  print('valor final de s: {} y valor final de i: {}'.format(s,i))\n",
        "print ( 'Sum of 1 to {} is {}' .format(n, s))"
      ],
      "metadata": {
        "colab": {
          "base_uri": "https://localhost:8080/"
        },
        "id": "1vGH0YxlkNTB",
        "outputId": "1ff5cf07-4b75-4c81-b2dd-2cfa7e5257c0"
      },
      "execution_count": 6,
      "outputs": [
        {
          "output_type": "stream",
          "name": "stdout",
          "text": [
            "Enter a number to sum up to 3\n",
            "Interación 1, valor inicial de s: 0\n",
            "valor final de s: 1 y valor final de i: 2\n",
            "Interación 2, valor inicial de s: 1\n",
            "valor final de s: 3 y valor final de i: 3\n",
            "Interación 3, valor inicial de s: 3\n",
            "valor final de s: 6 y valor final de i: 4\n",
            "Sum of 1 to 3 is 6\n"
          ]
        }
      ]
    },
    {
      "cell_type": "code",
      "source": [],
      "metadata": {
        "id": "6gi60oDrb5KK"
      },
      "execution_count": null,
      "outputs": []
    }
  ]
}