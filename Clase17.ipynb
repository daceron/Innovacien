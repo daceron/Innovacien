{
  "nbformat": 4,
  "nbformat_minor": 0,
  "metadata": {
    "colab": {
      "provenance": [],
      "authorship_tag": "ABX9TyMRrkxEdt5+8aAtBUW4zkuK",
      "include_colab_link": true
    },
    "kernelspec": {
      "name": "python3",
      "display_name": "Python 3"
    },
    "language_info": {
      "name": "python"
    }
  },
  "cells": [
    {
      "cell_type": "markdown",
      "metadata": {
        "id": "view-in-github",
        "colab_type": "text"
      },
      "source": [
        "<a href=\"https://colab.research.google.com/github/daceron/Innovacien/blob/main/Clase17.ipynb\" target=\"_parent\"><img src=\"https://colab.research.google.com/assets/colab-badge.svg\" alt=\"Open In Colab\"/></a>"
      ]
    },
    {
      "cell_type": "code",
      "execution_count": 2,
      "metadata": {
        "id": "UbBv0eWNiuRX",
        "colab": {
          "base_uri": "https://localhost:8080/"
        },
        "outputId": "99aa27c4-a66d-47d0-ddac-fb30bfa5a98c"
      },
      "outputs": [
        {
          "output_type": "stream",
          "name": "stdout",
          "text": [
            "Interación  1 , valor inicial de fact: 0\n",
            "valor final de s: 1\n",
            "Interación  2 , valor inicial de fact: 1\n",
            "valor final de s: 3\n",
            "Interación  3 , valor inicial de fact: 3\n",
            "valor final de s: 6\n",
            "Interación  4 , valor inicial de fact: 6\n",
            "valor final de s: 10\n",
            "Interación  5 , valor inicial de fact: 10\n",
            "valor final de s: 15\n",
            "Interación  6 , valor inicial de fact: 15\n",
            "valor final de s: 21\n",
            "Interación  7 , valor inicial de fact: 21\n",
            "valor final de s: 28\n",
            "Interación  8 , valor inicial de fact: 28\n",
            "valor final de s: 36\n",
            "Interación  9 , valor inicial de fact: 36\n",
            "valor final de s: 45\n",
            "Interación  10 , valor inicial de fact: 45\n",
            "valor final de s: 55\n",
            "Sum of 1 to 10:  55\n"
          ]
        }
      ],
      "source": [
        "s=0\n",
        "for i in range (1 , 11):\n",
        "  print('Interación ',i,', valor inicial de fact:',s)\n",
        "  s += i\n",
        "  print('valor final de s:', s)\n",
        "\n",
        "print ( 'Sum of 1 to 10: ' , s)"
      ]
    }
  ]
}