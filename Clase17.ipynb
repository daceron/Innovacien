{
  "nbformat": 4,
  "nbformat_minor": 0,
  "metadata": {
    "colab": {
      "provenance": [],
      "authorship_tag": "ABX9TyNkNSef5aIs50J7V+fX1PmD",
      "include_colab_link": true
    },
    "kernelspec": {
      "name": "python3",
      "display_name": "Python 3"
    },
    "language_info": {
      "name": "python"
    }
  },
  "cells": [
    {
      "cell_type": "markdown",
      "metadata": {
        "id": "view-in-github",
        "colab_type": "text"
      },
      "source": [
        "<a href=\"https://colab.research.google.com/github/daceron/Innovacien/blob/main/Clase17.ipynb\" target=\"_parent\"><img src=\"https://colab.research.google.com/assets/colab-badge.svg\" alt=\"Open In Colab\"/></a>"
      ]
    },
    {
      "cell_type": "code",
      "execution_count": 11,
      "metadata": {
        "id": "UbBv0eWNiuRX",
        "colab": {
          "base_uri": "https://localhost:8080/"
        },
        "outputId": "ef2c6512-d77c-4b20-c423-43553e8f396f"
      },
      "outputs": [
        {
          "output_type": "stream",
          "name": "stdout",
          "text": [
            "Introduzca un número positivo para sumar :1\n",
            "Interación  1 , valor inicial de s: 0\n",
            "valor final de s: 1\n",
            "Sum of 1 to 10:  1\n"
          ]
        }
      ],
      "source": [
        "n = -1\n",
        "while n <= 0: # input() repetido hasta que se introduce un valor positivo\n",
        "  n = int(input('Introduzca un número positivo para sumar :'))\n",
        "\n",
        "s=0\n",
        "for i in range (1 , n+1):\n",
        "  print('Interación ',i,', valor inicial de s:',s)\n",
        "  s += i\n",
        "  print('valor final de s:', s)\n",
        "\n",
        "print ( 'Suma de 1 a 10: ' , s)"
      ]
    },
    {
      "cell_type": "code",
      "source": [
        "n = int (input ( 'Enter a number to sum up to ' ))\n",
        "s = 0\n",
        "i = 1\n",
        "while i <= n:\n",
        "  print('Interación {}, valor inicial de s: {}'.format(i,s))\n",
        "  s = s + i\n",
        "  i += 1\n",
        "  print('valor final de s: {} y valor final de i: {}'.format(s,i))\n",
        "print ( 'Sum of 1 to {} is {}' .format(n, s))"
      ],
      "metadata": {
        "colab": {
          "base_uri": "https://localhost:8080/"
        },
        "id": "1vGH0YxlkNTB",
        "outputId": "1ff5cf07-4b75-4c81-b2dd-2cfa7e5257c0"
      },
      "execution_count": 6,
      "outputs": [
        {
          "output_type": "stream",
          "name": "stdout",
          "text": [
            "Enter a number to sum up to 3\n",
            "Interación 1, valor inicial de s: 0\n",
            "valor final de s: 1 y valor final de i: 2\n",
            "Interación 2, valor inicial de s: 1\n",
            "valor final de s: 3 y valor final de i: 3\n",
            "Interación 3, valor inicial de s: 3\n",
            "valor final de s: 6 y valor final de i: 4\n",
            "Sum of 1 to 3 is 6\n"
          ]
        }
      ]
    },
    {
      "cell_type": "code",
      "source": [
        "selected = None\n",
        "while selected not in ['tijeras', 'piedra', 'papel']:\n",
        "  selected = input('Elige entre tijeras, piedra, papel: ')\n",
        "print('Valor elegido:', selected)"
      ],
      "metadata": {
        "colab": {
          "base_uri": "https://localhost:8080/"
        },
        "id": "6gi60oDrb5KK",
        "outputId": "54c1ec13-3d62-4be9-cf05-1a19fc0b9a11"
      },
      "execution_count": 9,
      "outputs": [
        {
          "output_type": "stream",
          "name": "stdout",
          "text": [
            "Elige entre tijeras, piedra, papel: o\n",
            "Elige entre tijeras, piedra, papel: p\n",
            "Elige entre tijeras, piedra, papel: y\n",
            "Elige entre tijeras, piedra, papel: j\n",
            "Elige entre tijeras, piedra, papel: piedra\n",
            "Valor elegido: piedra\n"
          ]
        }
      ]
    },
    {
      "cell_type": "code",
      "source": [
        "import random as rd\n",
        "# import command that calls inner module and abbreviation of random module, rd\n",
        "\n",
        "print (rd.random ()) # Returns a random real\n",
        "print (rd.random()) # Returns a random real\n",
        "print (rd.randrange(1,7)) # Returns an integer greater than or equal to 1 and less than 7.\n",
        "print (rd.randrange(0,10,2)) # Returns a multiple of 2 of integers greater than or equal to 0 and less than 10\n",
        "print (rd.randint(1,10)) # Returns an arbitrary integer greater than or equal to 1 and less than 10 or equal to 10 (including l0).\n",
        "\n"
      ],
      "metadata": {
        "colab": {
          "base_uri": "https://localhost:8080/"
        },
        "id": "fxuBD7uffZs1",
        "outputId": "52b53136-4a90-47ac-90f7-2cc8071fe325"
      },
      "execution_count": 12,
      "outputs": [
        {
          "output_type": "stream",
          "name": "stdout",
          "text": [
            "0.9989797096865553\n",
            "0.6160159205971386\n",
            "6\n",
            "8\n",
            "3\n"
          ]
        }
      ]
    },
    {
      "cell_type": "code",
      "source": [
        "i=0\n",
        "while i<3:\n",
        "  print(i)\n",
        "  i+=1\n",
        "print(\"Fin\")"
      ],
      "metadata": {
        "colab": {
          "base_uri": "https://localhost:8080/"
        },
        "id": "gZQ9xVy9k2q5",
        "outputId": "484ef486-74e5-4a2b-9c77-1b7ad111913d"
      },
      "execution_count": 6,
      "outputs": [
        {
          "output_type": "stream",
          "name": "stdout",
          "text": [
            "0\n",
            "1\n",
            "2\n",
            "Fin\n"
          ]
        }
      ]
    },
    {
      "cell_type": "code",
      "source": [
        "for letra in \"python\":\n",
        "  if letra in \"aeiou\":\n",
        "    break\n",
        "  print(letra)"
      ],
      "metadata": {
        "id": "lKEub7HBmAd7",
        "outputId": "92cac220-fd84-43e9-bc54-7f53f93d409d",
        "colab": {
          "base_uri": "https://localhost:8080/"
        }
      },
      "execution_count": 8,
      "outputs": [
        {
          "output_type": "stream",
          "name": "stdout",
          "text": [
            "p\n",
            "y\n",
            "t\n",
            "h\n"
          ]
        }
      ]
    },
    {
      "cell_type": "code",
      "source": [
        "a_list=[10, 20, 30, 40 ,50, 60, 70, 80]\n",
        "a_list[2:6]"
      ],
      "metadata": {
        "id": "U3GsKMIxsIh_",
        "outputId": "9cbdf2b8-93cf-416d-8ed7-6d073bb1a697",
        "colab": {
          "base_uri": "https://localhost:8080/"
        }
      },
      "execution_count": 13,
      "outputs": [
        {
          "output_type": "execute_result",
          "data": {
            "text/plain": [
              "[30, 40, 50, 60]"
            ]
          },
          "metadata": {},
          "execution_count": 13
        }
      ]
    }
  ]
}